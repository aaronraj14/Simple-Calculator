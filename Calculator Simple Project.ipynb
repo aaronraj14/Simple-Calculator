{
 "cells": [
  {
   "cell_type": "code",
   "execution_count": 1,
   "metadata": {},
   "outputs": [
    {
     "name": "stdout",
     "output_type": "stream",
     "text": [
      "Welcome to my calculator\n",
      "What operation do you want to perform\n",
      " 1.Addition\n",
      " 2.Substraction\n",
      " 3.Multiplication\n",
      " 4.Division3\n",
      "Enter first number50\n",
      "Enter second number10\n",
      "Multiplication is:  500.0\n"
     ]
    }
   ],
   "source": [
    "print(\"Welcome to my calculator\")\n",
    "operation=float(input(\"What operation do you want to perform\\n 1.Addition\\n 2.Substraction\\n 3.Multiplication\\n 4.Division\"))\n",
    "num1=float(input(\"Enter first number\"))\n",
    "num2=float(input(\"Enter second number\"))\n",
    "if(operation==1):\n",
    "    print(\"Addition is:\",str(num1+num2))\n",
    "elif(operation==2):\n",
    "    print(\"Substraction is: \", str(num1-num2))\n",
    "elif(operation==3):\n",
    "    print(\"Multiplication is: \", str(num1*num2))\n",
    "elif(operation==4):\n",
    "    print(\"Division is: \", str(num1/num2))"
   ]
  },
  {
   "cell_type": "code",
   "execution_count": null,
   "metadata": {},
   "outputs": [],
   "source": []
  },
  {
   "cell_type": "code",
   "execution_count": null,
   "metadata": {},
   "outputs": [],
   "source": []
  }
 ],
 "metadata": {
  "kernelspec": {
   "display_name": "Python 3",
   "language": "python",
   "name": "python3"
  },
  "language_info": {
   "codemirror_mode": {
    "name": "ipython",
    "version": 3
   },
   "file_extension": ".py",
   "mimetype": "text/x-python",
   "name": "python",
   "nbconvert_exporter": "python",
   "pygments_lexer": "ipython3",
   "version": "3.8.5"
  }
 },
 "nbformat": 4,
 "nbformat_minor": 4
}
